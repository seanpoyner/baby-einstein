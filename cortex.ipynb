{
 "cells": [
  {
   "cell_type": "markdown",
   "metadata": {},
   "source": [
    "### Environment Setup with Miniconda\n",
    "\n",
    "To set up the environment for this workbook using Miniconda, run the following commands in your terminal:\n",
    "\n",
    "```bash\n",
    "conda create --name baby-einstein python=3.9\n",
    "conda activate baby-einstein\n",
    "pip install ipykernel\n",
    "python -m ipykernel install --user --name baby-einstein --display-name \"Python (baby-einstein)\"\n",
    "```\n",
    "\n",
    "Then, launch Jupyter Notebook and select the 'Python (baby-einstein)' kernel for this workbook."
   ]
  },
  {
   "cell_type": "code",
   "execution_count": null,
   "metadata": {},
   "outputs": [],
   "source": [
    "%pip install -r requirements.txt"
   ]
  },
  {
   "cell_type": "code",
   "execution_count": null,
   "metadata": {},
   "outputs": [],
   "source": []
  }
 ],
 "metadata": {
  "kernelspec": {
   "display_name": "baby-einstein",
   "language": "python",
   "name": "python3"
  },
  "language_info": {
   "codemirror_mode": {
    "name": "ipython",
    "version": 3
   },
   "file_extension": ".py",
   "mimetype": "text/x-python",
   "name": "python",
   "nbconvert_exporter": "python",
   "pygments_lexer": "ipython3",
   "version": "3.9.21"
  }
 },
 "nbformat": 4,
 "nbformat_minor": 2
}
