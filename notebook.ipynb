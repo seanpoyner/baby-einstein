{
 "cells": [
  {
   "cell_type": "code",
   "execution_count": 1,
   "metadata": {},
   "outputs": [
    {
     "name": "stdout",
     "output_type": "stream",
     "text": [
      "Note: you may need to restart the kernel to use updated packages.\n"
     ]
    }
   ],
   "source": [
    "%pip install -r requirements.txt > /dev/null 2>&1"
   ]
  },
  {
   "cell_type": "code",
   "execution_count": 2,
   "metadata": {},
   "outputs": [],
   "source": [
    "import json\n",
    "import requests\n",
    "import urllib3"
   ]
  },
  {
   "cell_type": "code",
   "execution_count": 3,
   "metadata": {},
   "outputs": [],
   "source": [
    "# Disable insecure request warnings\n",
    "urllib3.disable_warnings(urllib3.exceptions.InsecureRequestWarning)"
   ]
  },
  {
   "cell_type": "code",
   "execution_count": 4,
   "metadata": {},
   "outputs": [],
   "source": [
    "class ChatClient:\n",
    "    \"\"\"A base client for interacting with the chat completion API.\"\"\"\n",
    "    def __init__(self, model: str, url: str = \"https://typingmind.poyner.lan/v1/chat/completions\"):\n",
    "        self.url = url\n",
    "        self.model = model\n",
    "\n",
    "    def send_message(self, message: str) -> str:\n",
    "        payload = {\n",
    "            \"model\": self.model,\n",
    "            \"messages\": [\n",
    "                {\"role\": \"user\", \"content\": message}\n",
    "            ]\n",
    "        }\n",
    "        response = requests.post(self.url, json=payload, verify=False)\n",
    "        try:\n",
    "            data = response.json()\n",
    "            choices = data.get(\"choices\", [])\n",
    "            if not choices:\n",
    "                raise ValueError(\"No choices available in response: \" + str(data))\n",
    "            content = choices[0].get(\"message\", {}).get(\"content\", \"\")\n",
    "            return content\n",
    "        except ValueError as e:\n",
    "            raise ValueError(\"Response is not in JSON format: \" + response.text) from e"
   ]
  },
  {
   "cell_type": "code",
   "execution_count": 5,
   "metadata": {},
   "outputs": [],
   "source": [
    "class ThalamusClient(ChatClient):\n",
    "    \"\"\"Client for sending analysis requests to the Thalamus model.\"\"\"\n",
    "    def __init__(self):\n",
    "        super().__init__(model=\"baby-einstein/thalamus:latest\")\n",
    "\n",
    "    def analyze(self, sensor: str, input_type: str, input_data: str, threshold_score: str) -> str:\n",
    "        inner_message = json.dumps({\n",
    "            \"sensor\": sensor,\n",
    "            \"input_type\": input_type,\n",
    "            \"input_data\": input_data,\n",
    "            \"threshold_score\": threshold_score\n",
    "        })\n",
    "        return self.send_message(inner_message)"
   ]
  },
  {
   "cell_type": "code",
   "execution_count": 6,
   "metadata": {},
   "outputs": [],
   "source": [
    "class ACCClient(ChatClient):\n",
    "    \"\"\"Client for sending evaluation requests to the ACC model.\"\"\"\n",
    "    def __init__(self):\n",
    "        super().__init__(model=\"baby-einstein/acc:latest\")\n",
    "\n",
    "    def evaluate(self, thalamus_output: str) -> str:\n",
    "        return self.send_message(thalamus_output)\n"
   ]
  },
  {
   "cell_type": "code",
   "execution_count": 7,
   "metadata": {},
   "outputs": [
    {
     "name": "stdout",
     "output_type": "stream",
     "text": [
      "Thalamus response:\n",
      "{\"region\": \"Visual Cortex\", \"schema\": \"object_recognition\", \"perception\": \"An object moved in front of the camera, which was captured in a digital image format with the 'camera' sensor and processed by 'video analysis'.\", \"message\": \"{\"sensor\": \"camera\", \"input_type\": \"image\", \"input_data\": \"object moving in front of camera\", \"threshold_score\": \".88\"}\"}\n",
      "ACC response:\n",
      "{\n",
      "  \"pass_doubt\": true,\n",
      "  \"threshold_score\": 0.95,\n",
      "  \"message\": \"{\\\"region\\\": \\\"Visual Cortex\\\", \\\"schema\\\": \\\"object_recognition\\\", \\\"perception\\\": \\\"An object moved in front of the camera, which was captured in a digital image format with the 'camera' sensor and processed by 'video analysis'.\\\",\\\"sensor\\\": \\\"camera\\\", \\\"input_type\\\": \\\"image\\\", \\\"input_data\\\": \\\"object moving in front of camera\\\", \\\"threshold_score\\\": .88}\\\"\",\n",
      "  \"feelings\": \"Albert feels calm curiosity.\",\n",
      "  \"significance\": 0.75\n",
      "}\n"
     ]
    }
   ],
   "source": [
    "# Example usage:\n",
    "if __name__ == \"__main__\":\n",
    "    # Define input parameters (without extra quotes)\n",
    "    sensor = \"camera\"\n",
    "    input_type = \"image\"\n",
    "    input_data = \"object moving in front of camera\"\n",
    "    threshold_score = \".88\"\n",
    "\n",
    "    # Create a ThalamusClient instance and get its response\n",
    "    thalamus_client = ThalamusClient()\n",
    "    thalamus_response = thalamus_client.analyze(sensor, input_type, input_data, threshold_score)\n",
    "    print(\"Thalamus response:\")\n",
    "    print(thalamus_response)\n",
    "\n",
    "    # Create an ACCClient instance and evaluate the Thalamus response\n",
    "    acc_client = ACCClient()\n",
    "    acc_response = acc_client.evaluate(thalamus_response)\n",
    "    print(\"ACC response:\")\n",
    "    print(acc_response)"
   ]
  }
 ],
 "metadata": {
  "kernelspec": {
   "display_name": "Python 3.12.3 (baby-einstein .env)",
   "language": "python",
   "name": ".env"
  },
  "language_info": {
   "codemirror_mode": {
    "name": "ipython",
    "version": 3
   },
   "file_extension": ".py",
   "mimetype": "text/x-python",
   "name": "python",
   "nbconvert_exporter": "python",
   "pygments_lexer": "ipython3",
   "version": "3.12.3"
  }
 },
 "nbformat": 4,
 "nbformat_minor": 2
}
