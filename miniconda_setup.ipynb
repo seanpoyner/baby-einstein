{
 "cells": [
  {
   "cell_type": "markdown",
   "metadata": {},
   "source": [
    "# Miniconda Setup Instructions\n",
    "Instructions to create and activate a conda environment using Miniconda."
   ]
  },
  {
   "cell_type": "code",
   "execution_count": null,
   "metadata": {},
   "outputs": [],
   "source": [
    "conda create -n myenv python=3.8"
   ]
  },
  {
   "cell_type": "markdown",
   "metadata": {},
   "source": [
    "# Install Required Packages\n",
    "Commands to install transformers, torch, and other needed packages in the conda environment."
   ]
  },
  {
   "cell_type": "code",
   "execution_count": null,
   "metadata": {},
   "outputs": [],
   "source": [
    "# Activate the conda environment\n",
    "# conda activate myenv\n",
    "\n",
    "# Install the required packages\n",
    "!conda install -c conda-forge transformers\n",
    "!conda install -c pytorch pytorch\n",
    "!conda install -c conda-forge ipykernel\n",
    "\n",
    "# Register the environment as a new kernel\n",
    "!python -m ipykernel install --user --name myenv --display-name \"Python (myenv)\""
   ]
  },
  {
   "cell_type": "markdown",
   "metadata": {},
   "source": [
    "# Link Jupyter Kernel to Conda Environment\n",
    "Commands to install ipykernel and register the conda environment as a new Jupyter kernel."
   ]
  },
  {
   "cell_type": "code",
   "execution_count": null,
   "metadata": {},
   "outputs": [],
   "source": [
    "# Install ipykernel using conda\n",
    "!conda install -c conda-forge ipykernel\n",
    "\n",
    "# Register the environment as a new kernel\n",
    "!python -m ipykernel install --user --name myenv --display-name \"Python (myenv)\""
   ]
  }
 ],
 "metadata": {
  "language_info": {
   "name": "python"
  }
 },
 "nbformat": 4,
 "nbformat_minor": 2
}
