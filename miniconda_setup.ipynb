{
 "cells": [
  {
   "cell_type": "markdown",
   "metadata": {},
   "source": [
    "# Miniconda Setup Instructions\n",
    "Instructions to create and activate a conda environment using Miniconda."
   ]
  },
  {
   "cell_type": "code",
   "execution_count": null,
   "metadata": {},
   "outputs": [],
   "source": [
    "conda create -n cortex_env python=3.8 --force"
   ]
  },
  {
   "cell_type": "markdown",
   "metadata": {},
   "source": [
    "# Install Required Packages\n",
    "Commands to install transformers, torch, and other needed packages in the conda environment."
   ]
  },
  {
   "cell_type": "code",
   "execution_count": null,
   "metadata": {},
   "outputs": [],
   "source": [
    "# Activate the conda environment\n",
    "conda activate cortex_env\n",
    "\n",
    "# Install the required packages\n",
    "conda install -c conda-forge transformers\n",
    "conda install -c pytorch pytorch\n",
    "conda install -c conda-forge ipykernel\n",
    "\n",
    "# Register the environment as a new kernel\n",
    "!python -m ipykernel install --user --name cortex_env --display-name \"Python (cortex_env)\""
   ]
  }
 ],
 "metadata": {
  "kernelspec": {
   "display_name": "Python 3",
   "language": "python",
   "name": "python3"
  },
  "language_info": {
   "codemirror_mode": {
    "name": "ipython",
    "version": 3
   },
   "file_extension": ".py",
   "mimetype": "text/x-python",
   "name": "python",
   "nbconvert_exporter": "python",
   "pygments_lexer": "ipython3",
   "version": "3.10.11"
  }
 },
 "nbformat": 4,
 "nbformat_minor": 2
}
